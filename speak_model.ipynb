{
 "cells": [
  {
   "cell_type": "code",
   "execution_count": 3,
   "metadata": {},
   "outputs": [
    {
     "data": {
      "text/html": [
       "<div>\n",
       "<style scoped>\n",
       "    .dataframe tbody tr th:only-of-type {\n",
       "        vertical-align: middle;\n",
       "    }\n",
       "\n",
       "    .dataframe tbody tr th {\n",
       "        vertical-align: top;\n",
       "    }\n",
       "\n",
       "    .dataframe thead th {\n",
       "        text-align: right;\n",
       "    }\n",
       "</style>\n",
       "<table border=\"1\" class=\"dataframe\">\n",
       "  <thead>\n",
       "    <tr style=\"text-align: right;\">\n",
       "      <th></th>\n",
       "      <th>context_2</th>\n",
       "      <th>context_1</th>\n",
       "      <th>context_0</th>\n",
       "      <th>reply</th>\n",
       "      <th>label</th>\n",
       "    </tr>\n",
       "  </thead>\n",
       "  <tbody>\n",
       "    <tr>\n",
       "      <th>0</th>\n",
       "      <td>кликни на меня а потом на надпись \" видео - зв...</td>\n",
       "      <td>о , я тебя вижу .</td>\n",
       "      <td>ладно , повесь трубку .</td>\n",
       "      <td>не могу .</td>\n",
       "      <td>good</td>\n",
       "    </tr>\n",
       "    <tr>\n",
       "      <th>1</th>\n",
       "      <td>кликни на меня а потом на надпись \" видео - зв...</td>\n",
       "      <td>о , я тебя вижу .</td>\n",
       "      <td>ладно , повесь трубку .</td>\n",
       "      <td>нет , звонить буду я .</td>\n",
       "      <td>neutral</td>\n",
       "    </tr>\n",
       "    <tr>\n",
       "      <th>2</th>\n",
       "      <td>кликни на меня а потом на надпись \" видео - зв...</td>\n",
       "      <td>о , я тебя вижу .</td>\n",
       "      <td>ладно , повесь трубку .</td>\n",
       "      <td>я не прекращу звонить .</td>\n",
       "      <td>good</td>\n",
       "    </tr>\n",
       "    <tr>\n",
       "      <th>3</th>\n",
       "      <td>кликни на меня а потом на надпись \" видео - зв...</td>\n",
       "      <td>о , я тебя вижу .</td>\n",
       "      <td>ладно , повесь трубку .</td>\n",
       "      <td>я звоню им .</td>\n",
       "      <td>good</td>\n",
       "    </tr>\n",
       "    <tr>\n",
       "      <th>4</th>\n",
       "      <td>бывало и получше .</td>\n",
       "      <td>слушайте , мы с женой . . . совсем заблудились .</td>\n",
       "      <td>я пытаюсь добраться до юджина , но , кажется ,...</td>\n",
       "      <td>куда же вы едете , месье ?</td>\n",
       "      <td>good</td>\n",
       "    </tr>\n",
       "  </tbody>\n",
       "</table>\n",
       "</div>"
      ],
      "text/plain": [
       "                                           context_2  \\\n",
       "0  кликни на меня а потом на надпись \" видео - зв...   \n",
       "1  кликни на меня а потом на надпись \" видео - зв...   \n",
       "2  кликни на меня а потом на надпись \" видео - зв...   \n",
       "3  кликни на меня а потом на надпись \" видео - зв...   \n",
       "4                                 бывало и получше .   \n",
       "\n",
       "                                          context_1  \\\n",
       "0                                 о , я тебя вижу .   \n",
       "1                                 о , я тебя вижу .   \n",
       "2                                 о , я тебя вижу .   \n",
       "3                                 о , я тебя вижу .   \n",
       "4  слушайте , мы с женой . . . совсем заблудились .   \n",
       "\n",
       "                                           context_0  \\\n",
       "0                            ладно , повесь трубку .   \n",
       "1                            ладно , повесь трубку .   \n",
       "2                            ладно , повесь трубку .   \n",
       "3                            ладно , повесь трубку .   \n",
       "4  я пытаюсь добраться до юджина , но , кажется ,...   \n",
       "\n",
       "                        reply    label  \n",
       "0                   не могу .     good  \n",
       "1      нет , звонить буду я .  neutral  \n",
       "2     я не прекращу звонить .     good  \n",
       "3                я звоню им .     good  \n",
       "4  куда же вы едете , месье ?     good  "
      ]
     },
     "execution_count": 3,
     "metadata": {},
     "output_type": "execute_result"
    }
   ],
   "source": [
    "import pandas as pd\n",
    "good = pd.read_csv('good.tsv', sep='\\t')\n",
    "good.head()"
   ]
  },
  {
   "cell_type": "code",
   "execution_count": 6,
   "metadata": {},
   "outputs": [
    {
     "data": {
      "text/plain": [
       "(60049, 14123)"
      ]
     },
     "execution_count": 6,
     "metadata": {},
     "output_type": "execute_result"
    }
   ],
   "source": [
    "from sklearn.feature_extraction.text import TfidfVectorizer\n",
    "\n",
    "vectorizer = TfidfVectorizer()\n",
    "\n",
    "vectorizer.fit(good.context_0)\n",
    "\n",
    "matrix_big = vectorizer.transform(good.context_0)\n",
    "\n",
    "matrix_big.shape"
   ]
  },
  {
   "cell_type": "code",
   "execution_count": 7,
   "metadata": {},
   "outputs": [
    {
     "data": {
      "text/plain": [
       "(60049, 300)"
      ]
     },
     "execution_count": 7,
     "metadata": {},
     "output_type": "execute_result"
    }
   ],
   "source": [
    "from sklearn.decomposition import TruncatedSVD\n",
    "\n",
    "svd = TruncatedSVD(n_components=300)\n",
    "\n",
    "svd.fit(matrix_big)\n",
    "matrix_small = svd.transform(matrix_big)\n",
    "matrix_small.shape"
   ]
  },
  {
   "cell_type": "code",
   "execution_count": 8,
   "metadata": {},
   "outputs": [],
   "source": [
    "import numpy as np\n",
    "from sklearn.neighbors import BallTree\n",
    "from sklearn.base import BaseEstimator\n",
    "\n",
    "def softmax(x):\n",
    "    proba = np.exp(-x)\n",
    "    return proba/sum(proba)\n",
    "\n",
    "class NeighborSampler(BaseEstimator):\n",
    "    def __init__(self, k=5, temp=1.0):\n",
    "        self.k = k\n",
    "        self.temp = temp\n",
    "    \n",
    "    def fit(self, X, y):\n",
    "        self.tree_ = BallTree(X)\n",
    "        self.y_ = np.array(y)\n",
    "    \n",
    "    def predict(self, X, random_state=None):\n",
    "        distances, indeces = self.tree_.query(X, return_distance=True, k=self.k)\n",
    "        result = []\n",
    "        for distance, index in zip(distances, indeces):\n",
    "            result.append(np.random.choice(index, p=softmax(distance*self.temp)))\n",
    "        return self.y_[result]"
   ]
  },
  {
   "cell_type": "code",
   "execution_count": 9,
   "metadata": {},
   "outputs": [],
   "source": [
    "from sklearn.pipeline import make_pipeline\n",
    "ns = NeighborSampler()\n",
    "ns.fit(matrix_small, good.reply)\n",
    "pipe = make_pipeline(vectorizer, svd, ns)"
   ]
  },
  {
   "cell_type": "code",
   "execution_count": 10,
   "metadata": {},
   "outputs": [
    {
     "name": "stdout",
     "output_type": "stream",
     "text": [
      "['как сажа бела .']\n"
     ]
    }
   ],
   "source": [
    "print(pipe.predict(['Как дела?']))"
   ]
  },
  {
   "cell_type": "code",
   "execution_count": 12,
   "metadata": {},
   "outputs": [],
   "source": [
    "import joblib\n",
    "filename = 'speak_bot_vk.joblib.pkl'\n",
    "_ = joblib.dump(pipe, filename)"
   ]
  },
  {
   "cell_type": "code",
   "execution_count": null,
   "metadata": {},
   "outputs": [],
   "source": []
  },
  {
   "cell_type": "code",
   "execution_count": null,
   "metadata": {},
   "outputs": [],
   "source": []
  }
 ],
 "metadata": {
  "kernelspec": {
   "display_name": "Python 3",
   "language": "python",
   "name": "python3"
  },
  "language_info": {
   "codemirror_mode": {
    "name": "ipython",
    "version": 3
   },
   "file_extension": ".py",
   "mimetype": "text/x-python",
   "name": "python",
   "nbconvert_exporter": "python",
   "pygments_lexer": "ipython3",
   "version": "3.7.6"
  }
 },
 "nbformat": 4,
 "nbformat_minor": 4
}
