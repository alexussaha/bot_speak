{
 "cells": [
  {
   "cell_type": "code",
   "execution_count": null,
   "metadata": {},
   "outputs": [],
   "source": [
    "!pip install vk_api\n",
    "import requests\n",
    "import vk_api\n",
    "import random\n",
    "from vk_api.longpoll import VkLongPoll, VkEventType\n",
    "import joblib\n",
    "import numpy as np\n",
    "from sklearn.neighbors import BallTree\n",
    "from sklearn.base import BaseEstimator\n",
    "\n",
    "\n",
    "\n",
    "\n",
    "vk_session = vk_api.VkApi(token='Token')\n",
    "\n",
    "\n",
    "\n",
    "def softmax(x):\n",
    "    proba = np.exp(-x)\n",
    "    return proba/sum(proba)\n",
    "\n",
    "class NeighborSampler(BaseEstimator):\n",
    "    def __init__(self, k=5, temp=1.0):\n",
    "        self.k = k\n",
    "        self.temp = temp\n",
    "    \n",
    "    def fit(self, X, y):\n",
    "        self.tree_ = BallTree(X)\n",
    "        self.y_ = np.array(y)\n",
    "    \n",
    "    def predict(self, X, random_state=None):\n",
    "        distances, indeces = self.tree_.query(X, return_distance=True, k=self.k)\n",
    "        result = []\n",
    "        for distance, index in zip(distances, indeces):\n",
    "            result.append(np.random.choice(index, p=softmax(distance*self.temp)))\n",
    "        return self.y_[result]\n",
    "\n",
    "clf2 = joblib.load(r'C:\\Users\\usov_\\VkBot-master\\VkBot\\speak_bot_vk.joblib.pkl')\n",
    "\n",
    "longpoll = VkLongPoll(vk_session)\n",
    "vk = vk_session.get_api()\n",
    "for event in longpoll.listen():\n",
    "    if event.type == VkEventType.MESSAGE_NEW and event.to_me and event.text:\n",
    "\n",
    "   #Слушаем longpoll, если пришло сообщение то:\n",
    "        vk.messages.send( #Отправляем сообщение\n",
    "                    user_id=event.user_id,\n",
    "                    message=clf2.predict([event.text])[0],\n",
    "                    random_id = random.random()\n",
    "                )\n",
    "                \n",
    "        \n"
   ]
  },
  {
   "cell_type": "code",
   "execution_count": 16,
   "metadata": {},
   "outputs": [
    {
     "data": {
      "text/plain": [
       "'0.23.2'"
      ]
     },
     "execution_count": 16,
     "metadata": {},
     "output_type": "execute_result"
    }
   ],
   "source": [
    "import sklearn\n",
    "sklearn.__version__"
   ]
  },
  {
   "cell_type": "code",
   "execution_count": null,
   "metadata": {},
   "outputs": [],
   "source": []
  }
 ],
 "metadata": {
  "kernelspec": {
   "display_name": "Python 3",
   "language": "python",
   "name": "python3"
  },
  "language_info": {
   "codemirror_mode": {
    "name": "ipython",
    "version": 3
   },
   "file_extension": ".py",
   "mimetype": "text/x-python",
   "name": "python",
   "nbconvert_exporter": "python",
   "pygments_lexer": "ipython3",
   "version": "3.7.6"
  }
 },
 "nbformat": 4,
 "nbformat_minor": 4
}
